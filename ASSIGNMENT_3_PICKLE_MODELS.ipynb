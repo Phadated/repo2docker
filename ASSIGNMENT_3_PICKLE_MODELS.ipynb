{
 "cells": [
  {
   "cell_type": "code",
   "execution_count": 1,
   "metadata": {},
   "outputs": [
    {
     "name": "stderr",
     "output_type": "stream",
     "text": [
      "C:\\Users\\Dell-pc\\Anaconda3\\lib\\site-packages\\sklearn\\cross_validation.py:41: DeprecationWarning: This module was deprecated in version 0.18 in favor of the model_selection module into which all the refactored classes and functions are moved. Also note that the interface of the new CV iterators are different from that of this module. This module will be removed in 0.20.\n",
      "  \"This module will be removed in 0.20.\", DeprecationWarning)\n"
     ]
    }
   ],
   "source": [
    "import zipfile\n",
    "import csv \n",
    "import pandas as pd\n",
    "import sklearn\n",
    "from sklearn.preprocessing import MinMaxScaler\n",
    "import os\n",
    "import numpy as np\n",
    "import urllib\n",
    "from matplotlib import pyplot as plt\n",
    "import seaborn as sns\n",
    "%matplotlib inline\n",
    "from sklearn.feature_selection import RFE, f_regression\n",
    "from sklearn.linear_model import (LinearRegression, Ridge, Lasso, RandomizedLasso)\n",
    "from sklearn.preprocessing import MinMaxScaler\n",
    "from sklearn.ensemble import (RandomForestRegressor , RandomForestClassifier , ExtraTreesRegressor , ExtraTreesClassifier)\n",
    "import numpy as np\n",
    "import pickle\n",
    "from sklearn.metrics import (mean_squared_error,mean_absolute_error,r2_score , accuracy_score ,classification_report,silhouette_score) \n",
    "from sklearn.cross_validation import train_test_split\n",
    "from sklearn import neural_network\n",
    "from sklearn.neural_network import MLPRegressor ,MLPClassifier\n",
    "from sklearn import svm \n",
    "from sklearn.svm import SVC ,SVR\n",
    "from sklearn.neighbors import KNeighborsClassifier , KNeighborsRegressor\n",
    "from sklearn.naive_bayes import GaussianNB\n",
    "from sklearn.cluster import KMeans\n",
    "import boto3\n",
    "import sys\n",
    "import datetime\n",
    "from sklearn.pipeline import Pipeline ,make_pipeline\n",
    "from sklearn.preprocessing import LabelEncoder\n",
    "import plotly.plotly as py\n",
    "import plotly.graph_objs as go\n",
    "from sklearn.multioutput import MultiOutputRegressor"
   ]
  },
  {
   "cell_type": "code",
   "execution_count": 16,
   "metadata": {},
   "outputs": [],
   "source": [
    "if not os.path.exists(r'C:\\ASSIGNMENT_3_PROPULSIONS'):\n",
    "    os.makedirs(r'C:\\ASSIGNMENT_3_PROPULSIONS')"
   ]
  },
  {
   "cell_type": "code",
   "execution_count": 17,
   "metadata": {},
   "outputs": [],
   "source": [
    "#import urllib\n",
    "#from urllib import request\n",
    "#response = urllib.request.urlopen('http://www.website.com/log.zip')\n",
    "#zipcontent= response.read()\n",
    "#[WinError 10054] An existing connection was forcibly closed by the remote host\n",
    "\n",
    "zip = zipfile.ZipFile(r'C:\\ASSIGNMENT_3_PROPULSIONS\\UCI+CBM+Dataset.zip')  \n",
    "zip.extractall(r'C:\\ASSIGNMENT_3_PROPULSIONS')"
   ]
  },
  {
   "cell_type": "code",
   "execution_count": 18,
   "metadata": {
    "collapsed": true
   },
   "outputs": [],
   "source": [
    "### READING THE DATASET AD DATAFRAME ###\n",
    "f = open(r'C:\\ASSIGNMENT_3_PROPULSIONS\\UCI CBM Dataset\\data.txt' , 'r')\n",
    "my_data = f.readlines() #converting into list\n",
    "my_arr = np.array(my_data) # making it into numpy array\n",
    "\n",
    "arr = []\n",
    "for k in range(11934):\n",
    "    i = 3\n",
    "    while(i<289):\n",
    "        temp = float(my_arr[k][i:i+13])\n",
    "        arr.append(temp)\n",
    "        i = i+16\n",
    "\n",
    "arr = np.array(arr)\n",
    "arr = arr.reshape(11934,18)\n",
    "\n",
    "my_final_data = pd.DataFrame(arr , columns = ['1 - Lever position (lp) [ ]', '2 - Ship speed (v) [knots]', \n",
    "                                              '3 - Gas Turbine shaft torque (GTT) [kN m]',\n",
    "                                              '4 - Gas Turbine rate of revolutions (GTn) [rpm]', \n",
    "                                              '5 - Gas Generator rate of revolutions (GGn) [rpm]', \n",
    "                                              '6 - Starboard Propeller Torque (Ts) [kN]', '7 - Port Propeller Torque (Tp) [kN]', \n",
    "                                              '8 - HP Turbine exit temperature (T48) [C]', \n",
    "                                              '9 - GT Compressor inlet air temperature (T1) [C]',\n",
    "                                              '10 - GT Compressor outlet air temperature (T2) [C]', \n",
    "                                              '11 - HP Turbine exit pressure (P48) [bar]', \n",
    "                                              '12 - GT Compressor inlet air pressure (P1) [bar]',\n",
    "                                              '13 - GT Compressor outlet air pressure (P2) [bar]', \n",
    "                                              '14 - Gas Turbine exhaust gas pressure (Pexh) [bar]',\n",
    "                                              '15 - Turbine Injecton Control (TIC) [%]', '16 - Fuel flow (mf) [kg/s]', \n",
    "                                              '17 - GT Compressor decay state coefficient.', \n",
    "                                              '18 - GT Turbine decay state coefficient.'])\n",
    "\n",
    "my_final_data.to_csv(r'C:\\ASSIGNMENT_3_PROPULSIONS\\UCI CBM Dataset\\final_dataset.csv')\n"
   ]
  },
  {
   "cell_type": "code",
   "execution_count": 19,
   "metadata": {
    "collapsed": true
   },
   "outputs": [],
   "source": [
    "### CLEANING THE DATASET ###\n",
    "\n",
    "df = pd.read_csv(r'C:\\ASSIGNMENT_3_PROPULSIONS\\UCI CBM Dataset\\final_dataset.csv')\n",
    "num_of_missing_values = df.isnull().sum().sum()\n",
    "if ( num_of_missing_values == 0) :\n",
    "    final_file = df\n",
    "else :\n",
    "    final_file = df.fillna(method='bfill' ,axis = 0).fillna('0')\n",
    "\n",
    "final_file.to_csv(r'C:\\ASSIGNMENT_3_PROPULSIONS\\UCI CBM Dataset\\final_file.csv',index=False)"
   ]
  },
  {
   "cell_type": "code",
   "execution_count": 21,
   "metadata": {},
   "outputs": [],
   "source": [
    "### FEATURE ENGINEERING ###\n",
    "\n",
    "df_fe = pd.read_csv(r'C:\\ASSIGNMENT_3_PROPULSIONS\\UCI CBM Dataset\\final_file.csv')\n",
    "df_fe = df_fe.drop('Unnamed: 0',axis=1)\n",
    "#df= df.drop('Unnamed: 0.1',axis = 1)\n",
    "#print(df_1)\n",
    "scaler = MinMaxScaler()\n",
    "scale_data = scaler.fit_transform(df_fe)\n",
    "scaled_data = pd.DataFrame(scale_data , columns = ['1 - Lever position (lp) [ ]', '2 - Ship speed (v) [knots]', \n",
    "                                          '3 - Gas Turbine shaft torque (GTT) [kN m]',\n",
    "                                          '4 - Gas Turbine rate of revolutions (GTn) [rpm]', \n",
    "                                          '5 - Gas Generator rate of revolutions (GGn) [rpm]', \n",
    "                                          '6 - Starboard Propeller Torque (Ts) [kN]', '7 - Port Propeller Torque (Tp) [kN]', \n",
    "                                          '8 - HP Turbine exit temperature (T48) [C]', \n",
    "                                          '9 - GT Compressor inlet air temperature (T1) [C]',\n",
    "                                          '10 - GT Compressor outlet air temperature (T2) [C]', \n",
    "                                          '11 - HP Turbine exit pressure (P48) [bar]', \n",
    "                                          '12 - GT Compressor inlet air pressure (P1) [bar]',\n",
    "                                          '13 - GT Compressor outlet air pressure (P2) [bar]', \n",
    "                                          '14 - Gas Turbine exhaust gas pressure (Pexh) [bar]',\n",
    "                                          '15 - Turbine Injecton Control (TIC) [%]', '16 - Fuel flow (mf) [kg/s]', \n",
    "                                          '17 - GT Compressor decay state coefficient.', \n",
    "                                          '18 - GT Turbine decay state coefficient.'])\n",
    "\n",
    "scaled_data.to_csv(r'C:\\ASSIGNMENT_3_PROPULSIONS\\UCI CBM Dataset\\final_fe.csv',index=False)\n"
   ]
  },
  {
   "cell_type": "code",
   "execution_count": 34,
   "metadata": {},
   "outputs": [],
   "source": [
    "### PICKLING MODELS ###\n",
    "\n",
    "df_lr = pd.read_csv(r'C:\\ASSIGNMENT_3_PROPULSIONS\\UCI CBM Dataset\\final_fe.csv')\n",
    "df_split = np.split(df_lr ,[16],axis = 1) # splitting the dataframe to produce 2 dataframes. One with variables and\n",
    "#df_split = np.split(df_split[1],[16],axis = 1 )\n",
    "df_variables = df_split[0]\n",
    "#df_variables1 = np.array(df_variables)\n",
    "#df_variables2 = df_variables1.reshape(1,10608)\n",
    "#df_variables = pd.DataFrame(df_variables)\n",
    "#print(df_variables)\n",
    "# other with taret variables.\n",
    "df_target = df_split[1]\n",
    "df_target1 = np.split(df_target,[1],axis = 1)\n",
    "df_target2 = df_target1[0].values\n",
    "df_target3 = df_target1[1].values\n",
    "X = df_variables\n",
    "Y = df_target\n",
    "\n",
    "\n",
    "train_X,test_X ,train_Y,test_Y = train_test_split(X, Y, test_size=0.30,random_state=1)\n",
    "\n",
    "### LINEAR REGRESSION ###\n",
    "mlr = LinearRegression()\n",
    "#mode1 = MultiOutputRegressor(mlr(fit(train_X , train_Y)))\n",
    "mlr.fit(train_X , train_Y)\n",
    "pickle.dump(mlr ,open(r'C:\\ASSIGNMENT_3_PROPULSIONS\\UCI CBM Dataset\\Linear_Regression.pkl', \"wb\" ))\n",
    "\n",
    "### RANDOM FOREST REGRESSOR ###\n",
    "rfr = RandomForestRegressor(n_estimators =100, random_state = 1,n_jobs=-1)\n",
    "rfr.fit(train_X, train_Y)\n",
    "pickle.dump(rfr ,open(r'C:\\ASSIGNMENT_3_PROPULSIONS\\UCI CBM Dataset\\Random_Forest_Regression.pkl', \"wb\" ))\n",
    "\n",
    "### K-NEAREST NEIGHBORS ###\n",
    "knn_reg = KNeighborsRegressor(n_neighbors=11, p=2, weights=\"distance\")\n",
    "knn_reg.fit(train_X, train_Y)\n",
    "pickle.dump(knn_reg ,open(r'C:\\ASSIGNMENT_3_PROPULSIONS\\UCI CBM Dataset\\KNN.pkl', \"wb\" ))"
   ]
  },
  {
   "cell_type": "code",
   "execution_count": null,
   "metadata": {},
   "outputs": [],
   "source": [
    "### S3 UPLOAD ###\n",
    "buck_name=\" \" #enter bucket name\n",
    "\n",
    "S3_client = boto3.client('s3', Input_location, aws_access_key_id= Access_key, aws_secret_access_key= Secret_key)\n",
    "\n",
    "if Input_location == 'us-east-1':\n",
    "        S3_client.create_bucket(\n",
    "            Bucket=buck_name\n",
    "        )\n",
    "else:\n",
    "    S3_client.create_bucket(\n",
    "            Bucket=buck_name,\n",
    "            CreateBucketConfiguration={'LocationConstraint': Input_location},\n",
    "        )\n",
    "\n",
    "S3_client.upload_file(r'C:\\ASSIGNMENT_3_PROPULSIONS\\UCI CBM Dataset\\Linear_Regression.pkl', buck_name, r'C:\\ASSIGNMENT_3_PROPULSIONS\\UCI CBM Dataset\\Linear_Regression.pkl')\n",
    "S3_client.upload_file(r'C:\\ASSIGNMENT_3_PROPULSIONS\\UCI CBM Dataset\\Random_Forest_Regression.pkl', buck_name, r'C:\\ASSIGNMENT_3_PROPULSIONS\\UCI CBM Dataset\\Random_Forest_Regression.pkl')\n",
    "S3_client.upload_file(r'C:\\ASSIGNMENT_3_PROPULSIONS\\UCI CBM Dataset\\KNN.pkl', buck_name, r'C:\\ASSIGNMENT_3_PROPULSIONS\\UCI CBM Dataset\\KNN.pkl')"
   ]
  },
  {
   "cell_type": "code",
   "execution_count": null,
   "metadata": {
    "collapsed": true
   },
   "outputs": [],
   "source": []
  }
 ],
 "metadata": {
  "kernelspec": {
   "display_name": "Python 3",
   "language": "python",
   "name": "python3"
  },
  "language_info": {
   "codemirror_mode": {
    "name": "ipython",
    "version": 3
   },
   "file_extension": ".py",
   "mimetype": "text/x-python",
   "name": "python",
   "nbconvert_exporter": "python",
   "pygments_lexer": "ipython3",
   "version": "3.6.3"
  }
 },
 "nbformat": 4,
 "nbformat_minor": 2
}
